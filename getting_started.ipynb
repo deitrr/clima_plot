{
 "cells": [
  {
   "cell_type": "markdown",
   "metadata": {},
   "source": [
    "# Getting started with VPLANET and POISE\n",
    "First off, what the heck is VPLANET? And what about POISE?\n",
    "\n",
    "VPLANET is a computational model (written in your grandma's programming language, plain old C) that couples together a bunch of physics related to planets and habitability. It is in development (not published yet) by myself and other members of NASA's Virtual Planetary Laboratory (VPL), led by Rory Barnes (my advisor, and a professor here). \n",
    "\n",
    "POISE is VPLANET's climate model. POISE stands for Planetary Orbit-Influenced Simple EBM. The acronym-within-the-acronym EBM stands for Energy Balance Model. This is an old school (like, 1970s) way of modeling climate in a very simple way that gets most of the general behavior right. Why use an EBM, given how out of date they are? Well, EBMs are fast. Sophisticated 3D models can be run for decades (computer time) at most. We want to model things over thousands or even millions of years. With an EBM, we can do millions of years in less than an hour. \n",
    "\n",
    "tl;dr?\n",
    "\n",
    "VPLANET is the model we will use for this project. It has a bunch of stuff in it that we will not use. POISE is a component of VPLANET that models climate, and the only one we'll be using to start with."
   ]
  },
  {
   "cell_type": "markdown",
   "metadata": {},
   "source": [
    "# Git the code\n",
    "(see what I did there?)\n",
    "\n",
    "The first thing you'll need to do is get the code from the repository using `git`. Open up a terminal, navigate to (or create) any directory where you'd like to store your code and execute\n",
    "```bash\n",
    "git clone https://Rdeitrick@bitbucket.org/bitbucket_vpl/vplanet.git\n",
    "```\n",
    "Now, take a look in the `vplanet` directory. You'll see some directories, a \"Makefile\", and a bunch of files ending in `.c` and `.h`. These `.c` and `.h` files are the actual code. You can take a look at those in a text editor if you like. Marvel at the curly braces. Notice how awful C looks compared to Python. You should \\*knock on wood\\* never have to actually mess with VPLANET's code, thank goodness.\n",
    "\n",
    "What is a Makefile? Well... C, unlike Python, is code that needs to be \"compiled\" before it can be run. So you compile your C code, which produces an \"executable\", and then you run the executable on the command line. Compiling the code often requires a complicated command line expression, like `gcc -o mymodel *.c -lm`, and sometimes you might want to add some other commands like `-g` or `-O3` or something, so it ends up being easier to package your compile command(s) into a \"Makefile\". Then, in the directory where your code and your Makefile live, you can just type\n",
    "```bash\n",
    "make\n",
    "```\n",
    "which executes the Makefile, which compiles everything for you. Easy-peasy.\n",
    "\n",
    "Have a look at the Makefile if you're curious--you can see what the commands look like, and what some of the options are. For example, `make debug` adds the `-g` option, which lets you use some debugging features. Hopefully, you'll never have to deal with this. Debugging in C is a nightmare.\n",
    "\n",
    "Go ahead and compile VPLANET with\n",
    "```bash\n",
    "make\n",
    "```\n",
    "\n",
    "This will make a file called `vplanet`, sometimes with a `*` after it, depending on the shell settings. This is the executable. Type `ls` to check that it exists. Don't mess with it yet. Note that when you run `make`, you might get \"Warnings\". That is ok, just ignore them. If you get \"Errors\", however, we're in trouble."
   ]
  },
  {
   "cell_type": "markdown",
   "metadata": {
    "collapsed": false
   },
   "source": [
    "# Setting up your path\n",
    "To make things easier to run, we need to add some things to your path. You do this by editing your `.cshrc` or `.bashrc` files. These live in your home directory. So you can open them (without changing directories) with\n",
    "```bash\n",
    "gedit ~/.cshrc\n",
    "```\n",
    "or\n",
    "```bash\n",
    "gedit ~/.bashrc\n",
    "```\n",
    "\n",
    "In your VPLANET directory, get the path to vplanet using \n",
    "```bash\n",
    "pwd\n",
    "```\n",
    "Keep your eye on this. We'll come back to it in a moment.\n",
    "\n",
    "If you are using c-shell (`.cshrc`), add a line that looks like this:\n",
    "```shell\n",
    "set path = ($path /astro/users/deitrr/vplanet_repos/vplanet)\n",
    "```\n",
    "BUT, instead of `/astro/users/deitrr/vplanet_repos/vplanet)`, put the path to YOUR VPLANET directory, which you got using `pwd`.\n",
    "\n",
    "One thing to be careful about in c-shell, the line you added above MUST go before the line:\n",
    "```shell\n",
    "set path = ($path .)\n",
    "```\n",
    "\n",
    "All right, then, if you prefer bash, add a line that look like this, anywhere in your `.bashrc` file:\n",
    "```bash\n",
    "export PATH=\"/Users/russell/Code/vplanet:$PATH\"\n",
    "```\n",
    "where, AGAIN, replace my path above (`/Users/russell/Code/vplanet`) with your VPLANET path, from `pwd`."
   ]
  },
  {
   "cell_type": "code",
   "execution_count": null,
   "metadata": {
    "collapsed": true
   },
   "outputs": [],
   "source": []
  }
 ],
 "metadata": {
  "anaconda-cloud": {},
  "kernelspec": {
   "display_name": "Python [default]",
   "language": "python",
   "name": "python3"
  },
  "language_info": {
   "codemirror_mode": {
    "name": "ipython",
    "version": 3
   },
   "file_extension": ".py",
   "mimetype": "text/x-python",
   "name": "python",
   "nbconvert_exporter": "python",
   "pygments_lexer": "ipython3",
   "version": "3.5.2"
  }
 },
 "nbformat": 4,
 "nbformat_minor": 1
}

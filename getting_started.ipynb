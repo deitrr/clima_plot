{
 "cells": [
  {
   "cell_type": "markdown",
   "metadata": {},
   "source": [
    "# Getting started with VPLANET and POISE"
   ]
  },
  {
   "cell_type": "markdown",
   "metadata": {},
   "source": [
    "First off, what the heck is VPLANET? And what about POISE?\n",
    "\n",
    "VPLANET is a computational model (written in your grandma's programming language, plain old C) that couples together a bunch of physics related to planets and habitability. It is in development (not published yet) by myself and other members of NASA's Virtual Planetary Laboratory (VPL), led by Rory Barnes (my advisor, and a professor here). \n",
    "\n",
    "POISE is VPLANET's climate model. POISE stands for Planetary Orbit-Influenced Simple EBM. The acronym-within-the-acronym EBM stands for Energy Balance Model. This is an old school (like, 1970s) way of modeling climate in a very simple way that gets most of the general behavior right. Why use an EBM, given how out of date they are? Well, EBMs are fast. Sophisticated 3D models can be run for decades (computer time) at most. We want to model things over thousands or even millions of years. With an EBM, we can do millions of years in less than an hour. \n",
    "\n",
    "tl;dr?\n",
    "\n",
    "VPLANET is the model we will use for this project. It has a bunch of stuff in it that we will not use. POISE is a component of VPLANET that models climate, and the only one we'll be using to start with."
   ]
  },
  {
   "cell_type": "markdown",
   "metadata": {},
   "source": [
    "# Git the code\n",
    "(see what I did there?)"
   ]
  },
  {
   "cell_type": "markdown",
   "metadata": {},
   "source": [
    "The first thing you'll need to do is get the code from the repository using `git`. Open up a terminal, navigate to (or create) any directory where you'd like to store your code and execute\n",
    "```bash\n",
    "git clone https://Rdeitrick@bitbucket.org/bitbucket_vpl/vplanet.git\n",
    "```\n",
    "Now, take a look in the `vplanet` directory. You'll see some directories, a \"Makefile\", and a bunch of files ending in `.c` and `.h`. These `.c` and `.h` files are the actual code. You can take a look at those in a text editor if you like. Marvel at the curly braces. Notice how awful C looks compared to Python. You should \\*knock on wood\\* never have to actually mess with VPLANET's code, thank goodness."
   ]
  },
  {
   "cell_type": "code",
   "execution_count": 5,
   "metadata": {
    "collapsed": false
   },
   "outputs": [
    {
     "name": "stdout",
     "output_type": "stream",
     "text": [
      "hello\n"
     ]
    }
   ],
   "source": []
  },
  {
   "cell_type": "code",
   "execution_count": null,
   "metadata": {
    "collapsed": true
   },
   "outputs": [],
   "source": []
  }
 ],
 "metadata": {
  "anaconda-cloud": {},
  "kernelspec": {
   "display_name": "Python [default]",
   "language": "python",
   "name": "python3"
  },
  "language_info": {
   "codemirror_mode": {
    "name": "ipython",
    "version": 3
   },
   "file_extension": ".py",
   "mimetype": "text/x-python",
   "name": "python",
   "nbconvert_exporter": "python",
   "pygments_lexer": "ipython3",
   "version": "3.5.2"
  }
 },
 "nbformat": 4,
 "nbformat_minor": 1
}

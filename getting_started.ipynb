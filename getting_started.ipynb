{
 "cells": [
  {
   "cell_type": "markdown",
   "metadata": {},
   "source": [
    "# Getting started with VPLANET and POISE\n",
    "First off, what the heck is VPLANET? And what about POISE?\n",
    "\n",
    "VPLANET is a computational model (written in your grandma's programming language, plain old C) that couples together a bunch of physics related to planets and habitability. It is in development (not published yet) by myself and other members of NASA's Virtual Planetary Laboratory (VPL), led by Rory Barnes (my advisor, and a professor here). \n",
    "\n",
    "POISE is VPLANET's climate model. POISE stands for Planetary Orbit-Influenced Simple EBM. The acronym-within-the-acronym EBM stands for Energy Balance Model. This is an old school (like, 1970s) way of modeling climate in a very simple way that gets most of the general behavior right. Why use an EBM, given how out of date they are? Well, EBMs are fast. Sophisticated 3D models can be run for decades (computer time) at most. We want to model things over thousands or even millions of years. With an EBM, we can do millions of years in less than an hour. \n",
    "\n",
    "tl;dr?\n",
    "\n",
    "VPLANET is the model we will use for this project. It has a bunch of stuff in it that we will not use. POISE is a component of VPLANET that models climate, and the only one we'll be using to start with."
   ]
  },
  {
   "cell_type": "markdown",
   "metadata": {},
   "source": [
    "# Git the code\n",
    "(see what I did there?)\n",
    "\n",
    "The first thing you'll need to do is get the code from the repository using `git`. Open up a terminal, navigate to (or create) any directory where you'd like to store your code and execute\n",
    "```bash\n",
    "git clone https://Rdeitrick@bitbucket.org/bitbucket_vpl/vplanet.git\n",
    "```\n",
    "Now, take a look in the `vplanet` directory. You'll see some directories, a \"Makefile\", and a bunch of files ending in `.c` and `.h`. These `.c` and `.h` files are the actual code. You can take a look at those in a text editor if you like. Marvel at the curly braces. Notice how awful C looks compared to Python. You should \\*knock on wood\\* never have to actually mess with VPLANET's code, thank goodness.\n",
    "\n",
    "What is a Makefile? Well... C, unlike Python, is code that needs to be \"compiled\" before it can be run. So you compile your C code, which produces an \"executable\", and then you run the executable on the command line. Compiling the code often requires a complicated command line expression, like `gcc -o mymodel *.c -lm`, and sometimes you might want to add some other commands like `-g` or `-O3` or something, so it ends up being easier to package your compile command(s) into a \"Makefile\". Then, in the directory where your code and your Makefile live, you can just type\n",
    "```bash\n",
    "make\n",
    "```\n",
    "which executes the Makefile, which compiles everything for you. Easy-peasy.\n",
    "\n",
    "Have a look at the Makefile if you're curious--you can see what the commands look like, and what some of the options are. For example, `make debug` adds the `-g` option, which lets you use some debugging features. Hopefully, you'll never have to deal with this. Debugging in C is a nightmare.\n",
    "\n",
    "Go ahead and compile VPLANET with\n",
    "```bash\n",
    "make\n",
    "```\n",
    "\n",
    "This will make a file called `vplanet`, sometimes with a `*` after it, depending on the shell settings. This is the executable. Type `ls` to check that it exists. Don't mess with it yet. Note that when you run `make`, you might get \"Warnings\". That is ok, just ignore them. If you get \"Errors\", however, we're in trouble."
   ]
  },
  {
   "cell_type": "markdown",
   "metadata": {
    "collapsed": false
   },
   "source": [
    "# Setting up your path\n",
    "To make things easier to run, we need to add some things to your path. You do this by editing your `.cshrc` or `.bashrc` files. These live in your home directory. So you can open them (without changing directories) with\n",
    "```bash\n",
    "gedit ~/.cshrc\n",
    "```\n",
    "or\n",
    "```bash\n",
    "gedit ~/.bashrc\n",
    "```\n",
    "\n",
    "In your VPLANET directory, get the path to vplanet using \n",
    "```bash\n",
    "pwd\n",
    "```\n",
    "Keep your eye on this. We'll come back to it in a moment.\n",
    "\n",
    "If you are using c-shell (`.cshrc`), add a line that looks like this:\n",
    "```shell\n",
    "set path = ($path /astro/users/deitrr/vplanet_repos/vplanet)\n",
    "```\n",
    "BUT, instead of `/astro/users/deitrr/vplanet_repos/vplanet)`, put the path to YOUR VPLANET directory, which you got using `pwd`.\n",
    "\n",
    "One thing to be careful about in c-shell, the line you added above MUST go before the line:\n",
    "```shell\n",
    "set path = ($path .)\n",
    "```\n",
    "\n",
    "All right, then, if you prefer bash, add a line that look like this, anywhere in your `.bashrc` file:\n",
    "```bash\n",
    "export PATH=\"/Users/russell/Code/vplanet:$PATH\"\n",
    "```\n",
    "where, AGAIN, replace my path above (`/Users/russell/Code/vplanet`) with your VPLANET path, from `pwd`.\n",
    "\n",
    "Don't close your shell file yet!"
   ]
  },
  {
   "cell_type": "markdown",
   "metadata": {
    "collapsed": true
   },
   "source": [
    "# Setting up VPLOT\n",
    "We need to add some plotting tools. VPLOT is a Python package that comes with VPLANET (written by a fellow grad student, Rodrigo Luger) that will make it much easier to plot data from VPLANET.\n",
    "\n",
    "To setup VPLOT, `cd` into the `vplanet/vplot` directory and execute:\n",
    "```bash\n",
    "python setup.py install\n",
    "```\n",
    "\n",
    "Or, you can edit the cell below to accomplish the same task, using the path to `vplanet/vplot`."
   ]
  },
  {
   "cell_type": "code",
   "execution_count": null,
   "metadata": {
    "collapsed": false
   },
   "outputs": [],
   "source": [
    "import os                          #module that lets you do a bunch of command line (shell) things in python\n",
    "cwd = os.getcwd()                  #let's save our current directory to get back to in a moment\n",
    "os.chdir('<your vplot path here>') #enter the path to vplanet/vplot here\n",
    "#Below, this is a hacky way to do things, but Rodrigo didn't setup this code to be imported in Python, so whatever.\n",
    "!python setup.py install   \n",
    "os.chdir(cwd)                      #go back to the clima_plot directory"
   ]
  },
  {
   "cell_type": "markdown",
   "metadata": {},
   "source": [
    "# Clima_plot setup\n",
    "This repository, that you must have if you are reading this, was written by me to make the output of POISE somewhat more managable. It is VPLOT heavily, so make sure that is set up before trying to use it. \n",
    "\n",
    "While VPLOT handles most output from VPLANET quite easily, the output from POISE is absolutely monstrous. This is because the data is 2-dimensional (time, latitude), whereas most VPLANET data is 1-dimensional (time only). \n",
    "\n",
    "Also, because contour plotting can be a reeeeeaaaaallll pain to figure out, I decided to make things easier and \\*hopefully\\* frustration-free by creating this module.\n",
    "\n",
    "Take a look at your shell file (`.cshrc` or `.bashrc`) again. Look for a line that looks like the following.\n",
    "\n",
    "C-shell:\n",
    "```shell\n",
    "setenv PYTHONPATH \"<stuff>\"\n",
    "```\n",
    "\n",
    "Bash:\n",
    "```bash\n",
    "export PYTHONPATH=${PYTHONPATH}:<stuff>\n",
    "```\n",
    "\n",
    "If you have that line, we'll add to it. If you already have a path (`<stuff>`), DON'T delete it! Simply put the path of `clima_plot` before or after it, separated with a `:`, like so:\n",
    "\n",
    "C-shell:\n",
    "```shell\n",
    "setenv PYTHONPATH \"/astro/users/deitrr/clima_plot:<stuff>\"\n",
    "```\n",
    "\n",
    "Bash:\n",
    "```bash\n",
    "export PYTHONPATH=${PYTHONPATH}:<stuff>:/astro/users/deitrr/clima_plot\n",
    "```\n",
    "\n",
    " If you don't already have a `PYTHONPATH`, we'll create one, adding in the path of `clima_plot`. Just copy in the above line(s), removing the `<stuff>`.\n"
   ]
  },
  {
   "cell_type": "markdown",
   "metadata": {},
   "source": [
    "# Important! \n",
    "You must `source` your shell file for the changes to take place. Do this by typing \n",
    "```shell\n",
    "source ~/.cshrc\n",
    "```\n",
    "or\n",
    "```bash\n",
    "source ~/.bashrc\n",
    "```\n",
    "in the terminal window. \n",
    "\n",
    "This part is annoying. You will have to close this notebook BEFORE `source`-ing the shell file, and then restart it. Otherwise the changes will not be applied. Alternatively, you can close the notebook, close the terminal, and then open the notebook in a new terminal--the shell file is sourced every time you open a new terminal.\n",
    "\n",
    "Do this now and then reopen this notebook."
   ]
  },
  {
   "cell_type": "markdown",
   "metadata": {},
   "source": [
    "# Did everything work?\n",
    "Ok, now the moment of truth. Did we set up everything correctly? Let's find out. \\*fingers crossed\\*\n",
    "\n",
    "Navigate to your `vplanet` directory, then\n",
    "```shell\n",
    "cd examples/icebelt\n",
    "```\n",
    "\n",
    "Take a look in this directory real quick. You'll see some files ending in `.in`. These are the \"input\" files, and each planet or star in a simulation gets one, and then there is one called `vpl.in` that contains a bunch of things that tell VPLANET what to do. We'll be creating and editing lots of these files. We'll look at them in more detail later.\n",
    "\n",
    "This is already set up to run, so to run it, type\n",
    "```shell\n",
    "vplanet vpl.in\n",
    "```\n",
    "or use the cell below. "
   ]
  },
  {
   "cell_type": "code",
   "execution_count": null,
   "metadata": {
    "collapsed": true
   },
   "outputs": [],
   "source": [
    "import os\n",
    "import subprocess as sp\n",
    "os.chdir('<vplanet>/examples/icebelt')  #edit the path to vplanet here!\n",
    "sp.call('vplanet vpl.in',shell=True)"
   ]
  },
  {
   "cell_type": "markdown",
   "metadata": {},
   "source": [
    "If VPLANET runs, you'll see a bunch of stuff print to screen that looks like this:\n",
    "```\n",
    "WARNING: sUnitMass set in vpl.in, all bodies will use this unit.\n",
    "WARNING: sUnitTime set in vpl.in, all bodies will use this unit.\n",
    "WARNING: sUnitAngle set in vpl.in, all bodies will use this unit.\n",
    "WARNING: sUnitLength set in vpl.in, all bodies will use this unit.\n",
    "WARNING: sUnitTemp not set in file sun.in, defaulting to Kelvin.\n",
    "WARNING: sUnitTemp not set in file earth.in, defaulting to kelvin.\n",
    "WARNING: dSemi < 0 in file earth.in, units assumed to be AU.\n",
    "WARNING: dRadius < 0 in file earth.in, units assumed to be Earth radii.\n",
    "WARNING: dRotPeriod < 0 in file earth.in, units assumed to be Days.\n",
    "Input files read.\n",
    "WARNING: sOutFile not set, defaulting to solarsys.sun.forward.\n",
    "WARNING: sOutFile not set, defaulting to solarsys.Earth.forward.\n",
    "WARNING: solarsys.Earth.forward exists.\n",
    "WARNING: sIntegrationMethod not set, defaulting to Runge-Kutta4.\n",
    "WARNING: No rotational information set in file sun.in. Defaulting to dRotRate = 2*pi/day.\n",
    "All of sun's modules verified.\n",
    "TGlobal = 14.167251\n",
    "TGlobal = 12.411090\n",
    "TGlobal = 11.718438\n",
    "TGlobal = 11.203173\n",
    "TGlobal = 10.846684\n",
    "TGlobal = 10.587167\n",
    "TGlobal = 10.388385\n",
    "TGlobal = 10.194126\n",
    "TGlobal = 9.999361\n",
    "TGlobal = 9.815540\n",
    "TGlobal = 9.650525\n",
    "TGlobal = 9.495831\n",
    "TGlobal = 9.366836\n",
    "TGlobal = 9.269362\n",
    "TGlobal = 9.199569\n",
    "TGlobal = 9.148994\n",
    "TGlobal = 9.116775\n",
    "TGlobal = 9.094636\n",
    "TGlobal = 9.082630\n",
    "All of Earth's modules verified.\n",
    "Input files verified.\n",
    "Log file written.\n",
    "Evolution completed.\n",
    "Runtime = 15.000000 s\n",
    "Log file updated.\n",
    "```"
   ]
  },
  {
   "cell_type": "markdown",
   "metadata": {},
   "source": [
    "# Did it run?\n",
    "Yes? Woohoo!\n",
    "\n",
    "No? Let's pause here to troubleshoot."
   ]
  },
  {
   "cell_type": "markdown",
   "metadata": {},
   "source": [
    "# Did I just simulate a planet?\n",
    "Yes! You did it! It feels good, right?\n",
    "\n",
    "(Just keep nodding and humor the crazy person (me)...)\n",
    "\n",
    "Ok. Type `ls` to see what VPLANET created. You'll see a bunch of new files: `.forward` files are 1-dimensional (time) data output from the model, for global parameters like \"TGlobal\", which is the planet's global average temperature at a given time. `.Climate` files contain data that also depends on latitude, and will be a much larger file (in bytes) because of this. All of the data in these files is *averaged* over a \"year\". The `.log` contains a bunch of input and output information for your own reference and for VPLOT to work its magic. There is also a directory called `SeasonalClimateFiles`, which contains EVEN MORE data--this is where you'll find information about what the climate is doing over the course of a \"year\", rather than the averaged data you'll find in `.forward` and `.Climate` files."
   ]
  },
  {
   "cell_type": "markdown",
   "metadata": {},
   "source": [
    "# Using VPLOT\n",
    "This part is pretty cool. If you want to see some of the data, in the laziest possible fashion, just type\n",
    "```bash\n",
    "vplot\n",
    "```\n",
    "in the shell. Or you can do this here with the cell below. Do one of these now, to check that VPLOT is correctly installed. "
   ]
  },
  {
   "cell_type": "code",
   "execution_count": null,
   "metadata": {
    "collapsed": false
   },
   "outputs": [],
   "source": [
    "!vplot"
   ]
  },
  {
   "cell_type": "markdown",
   "metadata": {},
   "source": [
    "This command only plots the data from the `.forward` files. The `.Climate` data requires a bit more work. You might see a bunch of WARNINGS, this is ok. Ignore them. If you see and ERROR, it didn't work, and we'll need to troubleshoot."
   ]
  },
  {
   "cell_type": "markdown",
   "metadata": {},
   "source": [
    "# Using Clima_plot\n",
    "Here, we'll get to plotting some pretty climate data. This will also tell us if `clima_plot` is correctly put into your `PYTHONPATH`. Try the script below."
   ]
  },
  {
   "cell_type": "code",
   "execution_count": null,
   "metadata": {
    "collapsed": true
   },
   "outputs": [],
   "source": [
    "import climaplot as cpl  #no underscore here, sorry. I'm not very good at consistency.\n",
    "cpl.seasonal_maps(0)"
   ]
  },
  {
   "cell_type": "markdown",
   "metadata": {},
   "source": [
    "# Staying up to date\n",
    "We'll use `git` to keep all the code up to date. Everytime you start your work, go to the VPLANET directory and\n",
    "```shell\n",
    "git pull origin master\n",
    "```\n",
    "\n",
    "THEN, recompile with\n",
    "```shell\n",
    "make\n",
    "```\n",
    "\n",
    "This will keep VPLANET and VPLOT in the newest versions.\n",
    "\n",
    "The way you'll keep `clima_plot` up to date is exactly the same, minus the compile step. Go to your `clima_plot` directory and \n",
    "```shell\n",
    "git pull origin master\n",
    "```"
   ]
  },
  {
   "cell_type": "markdown",
   "metadata": {
    "collapsed": true
   },
   "source": [
    "# Time on your hands? There's some reading in the clima_plot repo.\n",
    "If college isn't keeping you busy enough (LOL), and you want to read about the modeling we're doing, check out the paper by **North & Coakley** in the repository. This paper laid out the basic workings of the model we are using. Section 4 is the most important part--there you can see the equations the model uses (Equations 16 and 17, specifically). If they look intimidating, that is ok! There's some pretty advanced math in there that took me months to get my head around. This paper talks a lot about \"Fourier-Legendre series\" and such--we are not using this method, so you can skim over the sections that talk about it. \n",
    "\n",
    "The North and Coakley formulation does not include ice sheets (where an ice sheet, or glacier, is semi-permanent ice on land). The ice sheet model comes from another paper, also in the repository, by **Huybers & Tziperman**. If you're still bored, go ahead and skim that one too. The introduction is particularly relevant, because it gives you some of the convoluted history of ice age theory on Earth, which is what the ice sheet model was designed to tackle. We're basically applying the same ice age theory to imaginary planets! The equations for the ice sheet model (A12 and A13 in the appendix) are even more horrifying than the North & Coakley equations, but if you're feeling brave or masochistic have a look. \n",
    "\n",
    "However, the **most important thing** is that you get your course work done and still have a life, so NO WORRIES if you don't have time or energy to read these. This is just for you to delve a little deeper if you want to! \n",
    "\n",
    "If you do decide to read either of these papers, you should know that reading scientific papers is *really* hard. It is also an acquired skill--you will get better as you read more and more of them. Further, almost *no one* reads a paper start to finish. People generally read the abstract, then look at the figures and captions, then the conclusions, **then maybe** the introduction, and only read the \"methods\" sections if they are trying to reproduce the data. Reading scientific papers often (usually) makes me feel confused and/or stupid, so don't feel bad if you don't understand what the heck they are talking about. It isn't you--it's the way science is written. "
   ]
  },
  {
   "cell_type": "code",
   "execution_count": null,
   "metadata": {
    "collapsed": true
   },
   "outputs": [],
   "source": []
  }
 ],
 "metadata": {
  "anaconda-cloud": {},
  "kernelspec": {
   "display_name": "Python [default]",
   "language": "python",
   "name": "python3"
  },
  "language_info": {
   "codemirror_mode": {
    "name": "ipython",
    "version": 3
   },
   "file_extension": ".py",
   "mimetype": "text/x-python",
   "name": "python",
   "nbconvert_exporter": "python",
   "pygments_lexer": "ipython3",
   "version": "3.5.2"
  }
 },
 "nbformat": 4,
 "nbformat_minor": 1
}

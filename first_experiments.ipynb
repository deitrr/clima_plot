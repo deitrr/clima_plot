{
 "cells": [
  {
   "cell_type": "markdown",
   "metadata": {},
   "source": [
    "# Let's do some experiments!\n",
    "As I write this, I am sick again, so if I am not present on Monday, I'm sorry! I will respond to email quickly so please email anytime you get stuck.\n",
    "\n",
    "So, for today, I'll give you some instructions for how to edit and run some simulations that might be interesting. If you finish, or get bored or frustrated, I've added some new papers to read. "
   ]
  },
  {
   "cell_type": "markdown",
   "metadata": {},
   "source": [
    "# Copy the icebelt example to a new directory\n",
    "Use the commands below in your Project folder, but replace 'new_project' with something that describes the experiment you're about to do (see next paragraph):\n",
    "```\n",
    "mkdir new_project\n",
    "cp vplanet/examples/icebelt/*.in new_project/\n",
    "```"
   ]
  },
  {
   "cell_type": "markdown",
   "metadata": {},
   "source": [
    "# Longer time\n",
    "The first thing I would like to find out is whether the ice belt is stable on a longer time scale. So copy the icebelt example to a new folder called 'time_1e4' (use the `mkdir` command). Then open the `vpl.in` file with `gedit vpl.in`, and change `dStopTime 500` to `dStopTime 1e4` (that's 10,000 years). It doesn't matter how many spaces you put between `dStopTime` and the number. Then, run this new simulation with:\n",
    "```\n",
    "vplanet vpl.in\n",
    "```\n",
    "This will take longer to run (several minutes at least), so you can let it run, open a new terminal tab (control+shift+T) and start on the next one while you wait.\n",
    "\n",
    "When it finishes, make a plot using `climaplot` and `cpl.clim_evol('earth')`. Does the ice ever get past the equatorial regions? How high (in meters) does it get?"
   ]
  },
  {
   "cell_type": "markdown",
   "metadata": {},
   "source": [
    "# Change Earth's semi-major axis\n",
    "Let's move the earth further from the sun in small increments. Copy the icebelt example again, also in a new folder ('semi_out0', maybe), but this time open the `earth.in` file with `gedit earth.in`. Change the value of `dSemi` by a small amount--increase it by, say, 0.005. Don't forget the minus sign! This ensures the units are in 'au'. So the line should now say `dSemi -1.025`. You can leave `dStopTime` at 500 years for now.\n",
    "\n",
    "Now, as before, run it with:\n",
    "```\n",
    "vplanet vpl.in\n",
    "```\n",
    "\n",
    "Make a plot of this one using `cpl.clim_evol('earth')`, just like before. What happens to the ice this time?\n",
    "\n",
    "Now, for fun, keep pushing the Earth out by 0.005 au. Each time you do this, create a new folder (like 'semi_out1', 'semi_out2', etc.). This is important to keep a record of the things you have already done. Each time, `cp` the icebelt example to this new folder, and edit `dSemi` in `earth.in` to be slightly larger than the one before, by 0.005 au. \n",
    "\n",
    "You can use the `os` library in Python to change directories easily, so that you don't have to close/reopen Python/Jupyter or create a bunch of notebooks in different folders:\n",
    "```\n",
    "import os\n",
    "os.chdir(`../semi_out1`)\n",
    "```\n",
    "\n",
    "Run `vplanet vpl.in`, make a plot with `cpl.clim_evol('earth')` for each new simulation, and see if you can figure out how far you can move the Earth before it freezes over completely (the albedo (TOA) will go to about 0.6 everywhere)."
   ]
  },
  {
   "cell_type": "markdown",
   "metadata": {},
   "source": [
    "# Carbon dioxide\n",
    "Ok, by now, hopefully you've figured out a rhythm: create a new folder, copy the example files, edit the new input file(s), run vplanet, make a plot. Make sure to follow each step for each new simulation. You will build up a set of simulation data with slightly different initial conditions. You can quickly create a **huge** amount of data very quickly. \n",
    "\n",
    "Repeat the previous experiment of increasing Earth's semi-major axis in steps, but this time change **two** things:\n",
    "\n",
    "1) Increase `dpCO2` to 0.1. This means that CO2 will now make up about 10% of Earth's atmosphere (in the simulation).\n",
    "\n",
    "2) Increase the size of `dSemi` by 0.05 each time instead of 0.005 (so your increments are 10 times larger). You'll need to or it will take forever to get to the outer edge of the habitable zone (unless I'm wrong, which I could be!). "
   ]
  },
  {
   "cell_type": "markdown",
   "metadata": {},
   "source": [
    "# Reading\n",
    "The first paper to look at is the Spiegel et al paper in the 'clima_plot' repo (you can open pdfs in Linux with `evince`). This is a similar paper to what we are doing, although they did not have ice sheets in their model. They also do some things slightly differently, like the albedo and heat diffusion. These are pretty minor differences, however. Some of their plots do not show up well, so look at the `spiegel2009fig7a.png` and `spiegel2009fig7b.png` images (try `eog spiegel2009fig7a.png` to view them--if that doesn't work, ask Brett. If your curious, 'eog' means 'eye of gnome'!).\n",
    "\n",
    "If you are interested in more ice age theory, there is also another paper in 'clima_plot' by Raymo & Huybers. It is a pretty quick read and might clarify some of the more confusing points in Huybers & Tzipermann."
   ]
  },
  {
   "cell_type": "code",
   "execution_count": null,
   "metadata": {
    "collapsed": true
   },
   "outputs": [],
   "source": []
  }
 ],
 "metadata": {
  "anaconda-cloud": {},
  "kernelspec": {
   "display_name": "Python [default]",
   "language": "python",
   "name": "python3"
  },
  "language_info": {
   "codemirror_mode": {
    "name": "ipython",
    "version": 3
   },
   "file_extension": ".py",
   "mimetype": "text/x-python",
   "name": "python",
   "nbconvert_exporter": "python",
   "pygments_lexer": "ipython3",
   "version": "3.5.2"
  }
 },
 "nbformat": 4,
 "nbformat_minor": 1
}

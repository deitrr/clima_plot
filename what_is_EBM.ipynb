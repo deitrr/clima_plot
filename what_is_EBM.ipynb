{
 "cells": [
  {
   "cell_type": "markdown",
   "metadata": {},
   "source": [
    "# Energy Balance Modeling\n",
    "One of the earliest, and simplest, ways of modeling climate is through \"energy balance\". An Energy Balance Model (EBM) does just what the name suggests, it balances energy. Ok, but what does it mean to balance energy?\n",
    "\n",
    "Let's take a look at a really crummy powerpoint cartoon:\n",
    "\n",
    "<img src=\"ebm_cartoon.png\">"
   ]
  },
  {
   "cell_type": "markdown",
   "metadata": {
    "collapsed": true
   },
   "source": [
    "# Forms of energy\n",
    "**Sunlight (insolation or solar flux)** goes straight through the atmosphere (mostly) and warms the surface.\n",
    "\n",
    "**Infrared flux/radiation** (often OLR or Outgoing Longwave Radiation) is Earth's method of cooling into space.\n",
    "\n",
    "**Heat flow/heat diffusion** represents heat flow through the atmosphere between adjacent areas. This is due to bulk motion (wind) or simple diffusive heat flow. \n",
    "\n",
    "**Latent heat** is the energy associated with phase changes. Whenever ice melts, it *absorbs* heat from the air, and whenever snow forms, it *releases* heat into the air. \n",
    "\n",
    "**Sensible heat** is the energy associated with temperature changes. If you put a pan on the stove (and turn it on), its temperature increases. This is because you are putting energy (in the form of sensible heat) into the pan. Similarly, sunlight generates sensible heat by warming the surface of the planet."
   ]
  },
  {
   "cell_type": "markdown",
   "metadata": {},
   "source": [
    "# How an EBM creates balance\n",
    "The idea of an EBM is to divide the surface of the planet up into grid-cells, and calculate all the energy coming into and out of a cell, and determine the temperature that brings these energies into \"balance\", meaning that the total sum of incoming and outgoing energies is equal to zero. \n",
    "\n",
    "Looking at the forms of energy and heating in the above section, which one(s) do you think are **dependent** on the temperature of the surface? Which one(s) are **independent** of temperature?\n",
    "\n",
    "The name of the game is essentially to take all of the heating processes that are **independent** of temperature, set them equal to the terms that are **dependent** on temperature, and do some fancy math to solve for T (temperature).  In practice, this is not easy, but in principal, it's not so hard to understand."
   ]
  },
  {
   "cell_type": "code",
   "execution_count": null,
   "metadata": {
    "collapsed": true
   },
   "outputs": [],
   "source": []
  }
 ],
 "metadata": {
  "anaconda-cloud": {},
  "kernelspec": {
   "display_name": "Python [default]",
   "language": "python",
   "name": "python3"
  },
  "language_info": {
   "codemirror_mode": {
    "name": "ipython",
    "version": 3
   },
   "file_extension": ".py",
   "mimetype": "text/x-python",
   "name": "python",
   "nbconvert_exporter": "python",
   "pygments_lexer": "ipython3",
   "version": "3.5.2"
  }
 },
 "nbformat": 4,
 "nbformat_minor": 1
}

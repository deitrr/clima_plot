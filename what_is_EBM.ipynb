{
 "cells": [
  {
   "cell_type": "markdown",
   "metadata": {},
   "source": [
    "# Energy Balance Modeling\n",
    "One of the earliest, and simplest, ways of modeling climate is through \"energy balance\". An Energy Balance Model (EBM) does just what the name suggests, it balances energy. Ok, but what does it mean to balance energy?\n",
    "\n",
    "Let's take a look at a really crummy powerpoint cartoon:\n",
    "\n",
    "<img src=\"ebm_cartoon.png\">"
   ]
  },
  {
   "cell_type": "code",
   "execution_count": null,
   "metadata": {
    "collapsed": true
   },
   "outputs": [],
   "source": []
  }
 ],
 "metadata": {
  "anaconda-cloud": {},
  "kernelspec": {
   "display_name": "Python [default]",
   "language": "python",
   "name": "python3"
  },
  "language_info": {
   "codemirror_mode": {
    "name": "ipython",
    "version": 3
   },
   "file_extension": ".py",
   "mimetype": "text/x-python",
   "name": "python",
   "nbconvert_exporter": "python",
   "pygments_lexer": "ipython3",
   "version": "3.5.2"
  }
 },
 "nbformat": 4,
 "nbformat_minor": 1
}
